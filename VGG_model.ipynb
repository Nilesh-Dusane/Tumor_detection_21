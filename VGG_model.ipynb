{
 "cells": [
  {
   "cell_type": "code",
   "execution_count": 1,
   "metadata": {
    "id": "BZ6PEHH75bJE"
   },
   "outputs": [],
   "source": [
    "from tensorflow.keras.layers import Input, Lambda, Dense, Flatten\n",
    "from tensorflow.keras.models import Model\n",
    "from tensorflow.keras.applications.vgg16 import VGG16\n",
    "from tensorflow.keras.applications.vgg19 import VGG19\n",
    "from tensorflow.keras.preprocessing import image\n",
    "from tensorflow.keras.preprocessing.image import ImageDataGenerator,load_img\n",
    "from tensorflow.keras.models import Sequential\n",
    "import numpy as np\n",
    "from glob import glob\n",
    "#import matplotlib.pyplot as plt"
   ]
  },
  {
   "cell_type": "code",
   "execution_count": 2,
   "metadata": {
    "id": "8EgrFTD35j2o"
   },
   "outputs": [],
   "source": [
    "IMAGE_SIZE = [224, 224]\n",
    "\n",
    "train_path = 'D:/Downloads/BTD/data/Training'\n",
    "valid_path = 'D:/Downloads/BTD/data/Testing'"
   ]
  },
  {
   "cell_type": "code",
   "execution_count": 3,
   "metadata": {
    "colab": {
     "base_uri": "https://localhost:8080/"
    },
    "id": "BnKldujI51Tn",
    "outputId": "0d4aaa95-286a-401b-9495-fc14b3335100"
   },
   "outputs": [],
   "source": [
    "vgg16 = VGG16(input_shape=IMAGE_SIZE + [3], weights='imagenet', include_top=False)\n"
   ]
  },
  {
   "cell_type": "code",
   "execution_count": 4,
   "metadata": {
    "id": "vxCZ6V6P52Gd"
   },
   "outputs": [],
   "source": [
    "# don't train existing weights\n",
    "for layer in vgg16.layers:\n",
    "    layer.trainable = False"
   ]
  },
  {
   "cell_type": "code",
   "execution_count": 7,
   "metadata": {
    "id": "7_lonEvD5-sc"
   },
   "outputs": [],
   "source": [
    "folders = glob('D:/Downloads/BTD/data/Training/*')"
   ]
  },
  {
   "cell_type": "code",
   "execution_count": 8,
   "metadata": {
    "colab": {
     "base_uri": "https://localhost:8080/"
    },
    "id": "wbMMl_He6DDL",
    "outputId": "5e565559-0a10-48e0-bc03-87953db3e656"
   },
   "outputs": [
    {
     "data": {
      "text/plain": [
       "['D:/Downloads/BTD/data/Training\\\\glioma_tumor',\n",
       " 'D:/Downloads/BTD/data/Training\\\\meningioma_tumor',\n",
       " 'D:/Downloads/BTD/data/Training\\\\no_tumor',\n",
       " 'D:/Downloads/BTD/data/Training\\\\pituitary_tumor']"
      ]
     },
     "execution_count": 8,
     "metadata": {},
     "output_type": "execute_result"
    }
   ],
   "source": [
    "folders"
   ]
  },
  {
   "cell_type": "code",
   "execution_count": 9,
   "metadata": {
    "id": "z3H0nWEn6ZwX"
   },
   "outputs": [],
   "source": [
    "# our layers - you can add more if you want\n",
    "x = Flatten()(vgg16.output)"
   ]
  },
  {
   "cell_type": "code",
   "execution_count": 10,
   "metadata": {
    "id": "JZR4t1lW6eAv"
   },
   "outputs": [],
   "source": [
    "prediction = Dense(len(folders), activation='softmax')(x)\n",
    "\n",
    "# create a model object\n",
    "model = Model(inputs=vgg16.input, outputs=prediction)"
   ]
  },
  {
   "cell_type": "code",
   "execution_count": 11,
   "metadata": {
    "id": "b9EkbGRM6fSh"
   },
   "outputs": [],
   "source": [
    "model.compile(\n",
    "  loss='categorical_crossentropy',\n",
    "  optimizer='adam',\n",
    "  metrics=['accuracy']\n",
    ")"
   ]
  },
  {
   "cell_type": "code",
   "execution_count": 12,
   "metadata": {
    "colab": {
     "base_uri": "https://localhost:8080/"
    },
    "id": "R5_zw8CA6kbh",
    "outputId": "d4c752bc-61d0-4f9e-8fa2-30b3cf25b78f"
   },
   "outputs": [
    {
     "name": "stdout",
     "output_type": "stream",
     "text": [
      "Found 2870 images belonging to 4 classes.\n",
      "Found 394 images belonging to 4 classes.\n"
     ]
    }
   ],
   "source": [
    "from tensorflow.keras.preprocessing.image import ImageDataGenerator\n",
    "\n",
    "train_datagen = ImageDataGenerator(rescale = 1./255,\n",
    "                                   shear_range = 0.2,\n",
    "                                   zoom_range = 0.2,\n",
    "                                   validation_split=0.20,\n",
    "                                   horizontal_flip = True)\n",
    "\n",
    "test_datagen = ImageDataGenerator(rescale = 1./255)\n",
    "# Make sure you provide the same target size as initialied for the image size\n",
    "training_set = train_datagen.flow_from_directory(train_path,\n",
    "                                                 target_size = (224, 224),\n",
    "                                                 batch_size = 32,\n",
    "                                                 class_mode = 'categorical')\n",
    "\n",
    "test_set = test_datagen.flow_from_directory(valid_path,\n",
    "                                            target_size = (224, 224),\n",
    "                                            batch_size = 32,\n",
    "                                            class_mode = 'categorical')"
   ]
  },
  {
   "cell_type": "code",
   "execution_count": 13,
   "metadata": {
    "colab": {
     "base_uri": "https://localhost:8080/",
     "height": 398
    },
    "id": "_gGafXnt7erp",
    "outputId": "187d2988-787f-4005-bd3d-9d9f733e006f"
   },
   "outputs": [
    {
     "name": "stdout",
     "output_type": "stream",
     "text": [
      "Epoch 1/20\n",
      "90/90 [==============================] - 118s 1s/step - loss: 0.9491 - accuracy: 0.6575 - val_loss: 1.7086 - val_accuracy: 0.5635\n",
      "Epoch 2/20\n",
      "90/90 [==============================] - 56s 620ms/step - loss: 0.4690 - accuracy: 0.8185 - val_loss: 1.8106 - val_accuracy: 0.6421\n",
      "Epoch 3/20\n",
      "90/90 [==============================] - 55s 609ms/step - loss: 0.3455 - accuracy: 0.8693 - val_loss: 1.6224 - val_accuracy: 0.6726\n",
      "Epoch 4/20\n",
      "90/90 [==============================] - 54s 601ms/step - loss: 0.2857 - accuracy: 0.8941 - val_loss: 1.9403 - val_accuracy: 0.6675\n",
      "Epoch 5/20\n",
      "90/90 [==============================] - 54s 604ms/step - loss: 0.2511 - accuracy: 0.9080 - val_loss: 1.6138 - val_accuracy: 0.7081\n",
      "Epoch 6/20\n",
      "90/90 [==============================] - 54s 599ms/step - loss: 0.2092 - accuracy: 0.9237 - val_loss: 1.5497 - val_accuracy: 0.7234\n",
      "Epoch 7/20\n",
      "90/90 [==============================] - 54s 600ms/step - loss: 0.2249 - accuracy: 0.9143 - val_loss: 1.8989 - val_accuracy: 0.7081\n",
      "Epoch 8/20\n",
      "90/90 [==============================] - 54s 597ms/step - loss: 0.1786 - accuracy: 0.9373 - val_loss: 1.5521 - val_accuracy: 0.7335\n",
      "Epoch 9/20\n",
      "90/90 [==============================] - 53s 593ms/step - loss: 0.1765 - accuracy: 0.9331 - val_loss: 1.7204 - val_accuracy: 0.7411\n",
      "Epoch 10/20\n",
      "90/90 [==============================] - 53s 588ms/step - loss: 0.1423 - accuracy: 0.9533 - val_loss: 1.5832 - val_accuracy: 0.7741\n",
      "Epoch 11/20\n",
      "90/90 [==============================] - 53s 591ms/step - loss: 0.1354 - accuracy: 0.9526 - val_loss: 1.8371 - val_accuracy: 0.7487\n",
      "Epoch 12/20\n",
      "90/90 [==============================] - 53s 587ms/step - loss: 0.1439 - accuracy: 0.9484 - val_loss: 1.8194 - val_accuracy: 0.7665\n",
      "Epoch 13/20\n",
      "90/90 [==============================] - 53s 590ms/step - loss: 0.1303 - accuracy: 0.9547 - val_loss: 2.3782 - val_accuracy: 0.7310\n",
      "Epoch 14/20\n",
      "90/90 [==============================] - 53s 588ms/step - loss: 0.1323 - accuracy: 0.9540 - val_loss: 2.0578 - val_accuracy: 0.7640\n",
      "Epoch 15/20\n",
      "90/90 [==============================] - 53s 588ms/step - loss: 0.1027 - accuracy: 0.9690 - val_loss: 1.8216 - val_accuracy: 0.7538\n",
      "Epoch 16/20\n",
      "90/90 [==============================] - 53s 591ms/step - loss: 0.1038 - accuracy: 0.9638 - val_loss: 1.9367 - val_accuracy: 0.7944\n",
      "Epoch 17/20\n",
      "90/90 [==============================] - 53s 588ms/step - loss: 0.0885 - accuracy: 0.9690 - val_loss: 1.7479 - val_accuracy: 0.7640\n",
      "Epoch 18/20\n",
      "90/90 [==============================] - 53s 588ms/step - loss: 0.0758 - accuracy: 0.9774 - val_loss: 1.9595 - val_accuracy: 0.7919\n",
      "Epoch 19/20\n",
      "90/90 [==============================] - 53s 591ms/step - loss: 0.0759 - accuracy: 0.9774 - val_loss: 1.7480 - val_accuracy: 0.7868\n",
      "Epoch 20/20\n",
      "90/90 [==============================] - 53s 591ms/step - loss: 0.0748 - accuracy: 0.9777 - val_loss: 1.8521 - val_accuracy: 0.7589\n"
     ]
    }
   ],
   "source": [
    "# fit the model\n",
    "# Run the cell. It will take some time to execute\n",
    "r = model.fit(\n",
    "  training_set,\n",
    "  validation_data=test_set,\n",
    "  epochs=20,\n",
    "  steps_per_epoch=len(training_set),\n",
    "  validation_steps=len(test_set)\n",
    ")"
   ]
  },
  {
   "cell_type": "code",
   "execution_count": 29,
   "metadata": {
    "colab": {
     "base_uri": "https://localhost:8080/"
    },
    "id": "B53ik8D28OxS",
    "outputId": "3f432dd1-adcb-4f92-c3c7-4097a9d05bbe"
   },
   "outputs": [
    {
     "data": {
      "image/png": "[encoded data removed]",
      "text/plain": [
       "<Figure size 432x288 with 1 Axes>"
      ]
     },
     "metadata": {
      "needs_background": "light"
     },
     "output_type": "display_data"
    },
    {
     "data": {
      "text/plain": [
       "<Figure size 432x288 with 0 Axes>"
      ]
     },
     "metadata": {},
     "output_type": "display_data"
    }
   ],
   "source": [
    "import matplotlib.pyplot as plt\n",
    "# plot the loss\n",
    "plt.plot(r.history['loss'], label='train loss')\n",
    "plt.plot(r.history['val_loss'], label='val loss')\n",
    "plt.legend()\n",
    "plt.show()\n",
    "plt.savefig('LossVal_loss')\n",
    "\n"
   ]
  },
  {
   "cell_type": "code",
   "execution_count": 30,
   "metadata": {},
   "outputs": [
    {
     "data": {
      "image/png": "[encoded data removed]",
      "text/plain": [
       "<Figure size 432x288 with 1 Axes>"
      ]
     },
     "metadata": {
      "needs_background": "light"
     },
     "output_type": "display_data"
    },
    {
     "data": {
      "text/plain": [
       "<Figure size 432x288 with 0 Axes>"
      ]
     },
     "metadata": {},
     "output_type": "display_data"
    }
   ],
   "source": [
    "# plot the accuracy\n",
    "plt.plot(r.history['accuracy'], label='train acc')\n",
    "plt.plot(r.history['val_accuracy'], label='val acc')\n",
    "plt.legend()\n",
    "plt.show()\n",
    "plt.savefig('AccVal_acc')"
   ]
  },
  {
   "cell_type": "code",
   "execution_count": 15,
   "metadata": {},
   "outputs": [],
   "source": [
    "from tensorflow.keras.models import load_model\n",
    "\n",
    "model.save('model_vgg16.h5')"
   ]
  },
  {
   "cell_type": "code",
   "execution_count": 19,
   "metadata": {},
   "outputs": [],
   "source": [
    "y_pred = model.predict(test_set)"
   ]
  },
  {
   "cell_type": "code",
   "execution_count": 27,
   "metadata": {},
   "outputs": [],
   "source": [
    "import numpy as np\n",
    "y_pred = np.argmax(y_pred, axis=1)"
   ]
  },
  {
   "cell_type": "code",
   "execution_count": 36,
   "metadata": {},
   "outputs": [],
   "source": [
    "import cv2\n",
    "pic=cv2.imread('D:/Downloads/BTD/data/Testing/meningioma_tumor/image(10).jpg')\n",
    "cv2image = cv2.cvtColor(pic, cv2.COLOR_BGR2RGB)\n",
    "pic=cv2.resize(cv2image,(224,224))\n",
    "img2=pic.copy()\n",
    "pic= image.img_to_array(pic)\n",
    "pic = np.expand_dims(pic, axis=0)\n",
    "pred=model.predict(pic)\n",
    "pred=np.argmax(pred)"
   ]
  },
  {
   "cell_type": "code",
   "execution_count": 32,
   "metadata": {},
   "outputs": [],
   "source": [
    "import cv2\n",
    "img=cv2.imread('D:/Downloads/BTD/data/Testing/meningioma_tumor/image(10).jpg')"
   ]
  },
  {
   "cell_type": "code",
   "execution_count": 38,
   "metadata": {},
   "outputs": [
    {
     "data": {
      "text/plain": [
       "array([2, 3, 1, 1, 1, 1, 1, 2, 1, 0, 1, 3, 2, 2, 2, 1, 2, 2, 1, 0, 0, 1,\n",
       "       1, 2, 1, 2, 1, 2, 1, 2, 3, 2, 1, 1, 0, 1, 3, 2, 2, 2, 2, 2, 1, 1,\n",
       "       2, 2, 1, 2, 1, 1, 2, 0, 0, 2, 2, 2, 2, 2, 1, 3, 2, 3, 1, 1, 2, 2,\n",
       "       1, 3, 0, 2, 2, 1, 3, 1, 0, 3, 2, 1, 2, 2, 2, 2, 2, 1, 2, 2, 2, 2,\n",
       "       0, 2, 2, 3, 0, 2, 3, 1, 2, 1, 3, 1, 1, 3, 2, 3, 2, 2, 3, 3, 3, 1,\n",
       "       1, 1, 1, 3, 2, 3, 2, 3, 1, 1, 2, 3, 3, 2, 1, 1, 1, 1, 1, 1, 0, 1,\n",
       "       1, 1, 1, 1, 2, 2, 2, 0, 2, 2, 1, 2, 2, 0, 1, 3, 1, 1, 1, 2, 1, 2,\n",
       "       1, 1, 2, 0, 2, 2, 2, 2, 2, 1, 3, 2, 2, 1, 3, 1, 1, 1, 1, 2, 2, 1,\n",
       "       2, 2, 2, 2, 3, 1, 3, 3, 3, 2, 2, 1, 1, 2, 2, 2, 1, 2, 1, 1, 2, 1,\n",
       "       1, 2, 1, 1, 3, 3, 3, 2, 2, 2, 3, 2, 1, 1, 2, 1, 2, 2, 1, 3, 0, 2,\n",
       "       1, 1, 2, 1, 1, 2, 1, 1, 1, 2, 1, 2, 1, 1, 3, 2, 1, 1, 1, 1, 0, 2,\n",
       "       0, 3, 2, 2, 1, 2, 1, 2, 0, 3, 1, 2, 1, 1, 0, 1, 2, 2, 2, 1, 2, 2,\n",
       "       3, 1, 2, 1, 1, 3, 2, 0, 3, 2, 1, 1, 1, 2, 2, 0, 3, 2, 2, 1, 2, 1,\n",
       "       2, 2, 1, 1, 1, 3, 1, 3, 3, 0, 2, 2, 2, 3, 1, 1, 1, 0, 3, 2, 2, 1,\n",
       "       3, 1, 1, 2, 1, 2, 2, 3, 1, 0, 2, 1, 2, 2, 1, 1, 3, 2, 1, 2, 1, 1,\n",
       "       1, 2, 1, 2, 2, 0, 2, 1, 1, 1, 1, 1, 2, 2, 1, 2, 2, 1, 3, 2, 2, 1,\n",
       "       3, 2, 1, 2, 1, 1, 2, 1, 1, 2, 1, 1, 3, 0, 1, 3, 1, 0, 2, 2, 1, 3,\n",
       "       3, 2, 1, 1, 2, 1, 2, 3, 2, 2, 3, 1, 1, 1, 2, 1, 2, 3, 2, 1],\n",
       "      dtype=int64)"
      ]
     },
     "execution_count": 38,
     "metadata": {},
     "output_type": "execute_result"
    }
   ],
   "source": [
    "y_pred"
   ]
  },
  {
   "cell_type": "code",
   "execution_count": null,
   "metadata": {},
   "outputs": [],
   "source": []
  }
 ],
 "metadata": {
  "colab": {
   "name": "B.ipynb",
   "provenance": []
  },
  "kernelspec": {
   "display_name": "Python 3",
   "language": "python",
   "name": "python3"
  },
  "language_info": {
   "codemirror_mode": {
    "name": "ipython",
    "version": 3
   },
   "file_extension": ".py",
   "mimetype": "text/x-python",
   "name": "python",
   "nbconvert_exporter": "python",
   "pygments_lexer": "ipython3",
   "version": "3.8.3"
  }
 },
 "nbformat": 4,
 "nbformat_minor": 1
}
